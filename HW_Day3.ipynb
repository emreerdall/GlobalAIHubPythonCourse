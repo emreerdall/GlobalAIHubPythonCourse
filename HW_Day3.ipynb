{
 "cells": [
  {
   "cell_type": "markdown",
   "metadata": {},
   "source": [
    "# Login System"
   ]
  },
  {
   "cell_type": "markdown",
   "metadata": {},
   "source": [
    "Creating username and password"
   ]
  },
  {
   "cell_type": "code",
   "execution_count": 7,
   "metadata": {},
   "outputs": [],
   "source": [
    "username = \"emreerdal\"\n",
    "password = \"123456\""
   ]
  },
  {
   "cell_type": "markdown",
   "metadata": {},
   "source": [
    "Getting the username and password from the user"
   ]
  },
  {
   "cell_type": "code",
   "execution_count": 104,
   "metadata": {},
   "outputs": [
    {
     "name": "stdin",
     "output_type": "stream",
     "text": [
      "Please enter your username emreerdal\n",
      "Please enter your password 123456\n"
     ]
    }
   ],
   "source": [
    "entered_username = input(\"Please enter your username\")\n",
    "entered_password = input(\"Please enter your password\")"
   ]
  },
  {
   "cell_type": "markdown",
   "metadata": {},
   "source": [
    "Checking of the values"
   ]
  },
  {
   "cell_type": "code",
   "execution_count": 105,
   "metadata": {},
   "outputs": [
    {
     "name": "stdout",
     "output_type": "stream",
     "text": [
      "Login is Successful!\n"
     ]
    }
   ],
   "source": [
    "if entered_username==username and entered_password==password:\n",
    "    print(\"Login is Successful!\")\n",
    "elif entered_username==username:\n",
    "    print(\"Wrong Paswword!\")\n",
    "elif entered_password==password:\n",
    "    print(\"Invalid User!\")\n",
    "else:\n",
    "    print(\"Both of Username and Password are wrong!\")\n",
    "        "
   ]
  },
  {
   "cell_type": "markdown",
   "metadata": {},
   "source": [
    "#### By Using the Dictionary"
   ]
  },
  {
   "cell_type": "code",
   "execution_count": 106,
   "metadata": {},
   "outputs": [],
   "source": [
    "userInfo = {username : password}"
   ]
  },
  {
   "cell_type": "code",
   "execution_count": 107,
   "metadata": {},
   "outputs": [],
   "source": [
    "entered_userInfo = {entered_username : entered_password}"
   ]
  },
  {
   "cell_type": "code",
   "execution_count": 108,
   "metadata": {},
   "outputs": [
    {
     "name": "stdout",
     "output_type": "stream",
     "text": [
      "Login is Successful!\n"
     ]
    }
   ],
   "source": [
    "if entered_userInfo == userInfo:\n",
    "    print(\"Login is Successful!\")\n",
    "else:\n",
    "    if entered_userInfo.keys() == userInfo.keys():\n",
    "        print(\"Wrong Password!\")\n",
    "    elif str(entered_userInfo.values()) == str(userInfo.values()):\n",
    "        print(\"Invalid User!\")\n",
    "    else:\n",
    "        print(\"Both of Username and Password are wrong!\")"
   ]
  },
  {
   "cell_type": "code",
   "execution_count": null,
   "metadata": {},
   "outputs": [],
   "source": []
  }
 ],
 "metadata": {
  "kernelspec": {
   "display_name": "Python 3",
   "language": "python",
   "name": "python3"
  },
  "language_info": {
   "codemirror_mode": {
    "name": "ipython",
    "version": 3
   },
   "file_extension": ".py",
   "mimetype": "text/x-python",
   "name": "python",
   "nbconvert_exporter": "python",
   "pygments_lexer": "ipython3",
   "version": "3.7.6"
  }
 },
 "nbformat": 4,
 "nbformat_minor": 4
}
